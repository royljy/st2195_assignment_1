{
 "cells": [
  {
   "cell_type": "markdown",
   "id": "c9d5c410",
   "metadata": {},
   "source": [
    "## st2195 Assignment 1\n",
    "#### Roy Lee Jing Yi\n",
    "\n",
    "This is a Jupyter notebook that contains code from **Part 1's Python script** that uses a *for loop* to print integers 1 through 10"
   ]
  },
  {
   "cell_type": "code",
   "execution_count": 4,
   "id": "55a12be6",
   "metadata": {
    "scrolled": true
   },
   "outputs": [
    {
     "name": "stdout",
     "output_type": "stream",
     "text": [
      "1\n",
      "2\n",
      "3\n",
      "4\n",
      "5\n",
      "6\n",
      "7\n",
      "8\n",
      "9\n",
      "10\n"
     ]
    }
   ],
   "source": [
    "for x in range(0,10):\n",
    "    print(x+1)"
   ]
  },
  {
   "cell_type": "markdown",
   "id": "11328052",
   "metadata": {},
   "source": [
    "The 'for loop' function prints the current value of x at an increment of 1, starting from 0. Once x hits '11', the for loop function ends and stop printing."
   ]
  },
  {
   "cell_type": "code",
   "execution_count": null,
   "id": "c52f0cb9",
   "metadata": {},
   "outputs": [],
   "source": []
  },
  {
   "cell_type": "code",
   "execution_count": null,
   "id": "f5ffaebd",
   "metadata": {},
   "outputs": [],
   "source": []
  }
 ],
 "metadata": {
  "kernelspec": {
   "display_name": "Python 3",
   "language": "python",
   "name": "python3"
  },
  "language_info": {
   "codemirror_mode": {
    "name": "ipython",
    "version": 3
   },
   "file_extension": ".py",
   "mimetype": "text/x-python",
   "name": "python",
   "nbconvert_exporter": "python",
   "pygments_lexer": "ipython3",
   "version": "3.8.8"
  }
 },
 "nbformat": 4,
 "nbformat_minor": 5
}
